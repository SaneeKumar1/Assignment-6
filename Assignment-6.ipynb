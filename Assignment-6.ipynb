{
 "cells": [
  {
   "cell_type": "markdown",
   "id": "9c503b23-f68e-4b86-a5e0-bfd9d4b7abd9",
   "metadata": {},
   "source": [
    "Q1. Explain Class and Object with respect to Object-Oriented Programming. Give a suitable example."
   ]
  },
  {
   "cell_type": "markdown",
   "id": "45b2c159-60d3-4284-8b46-8890e52ef15e",
   "metadata": {},
   "source": [
    "Ans - Class: Blueprint or template that defines the attributes (data) and methods (functions) common to all objects of that class.\n",
    "\n",
    "Object: Instance of a class that encapsulates data (attributes) and behavior (methods) defined by its class."
   ]
  },
  {
   "cell_type": "code",
   "execution_count": 1,
   "id": "9473a54d-f78c-415f-a3d3-3a1c0c8328ef",
   "metadata": {},
   "outputs": [],
   "source": [
    "# creating class Car\n",
    "class Car:\n",
    "    def __init__(self, make, model):\n",
    "        self.make = make\n",
    "        self.model = model\n",
    "    \n",
    "    def display_info(self):\n",
    "        print(f\"{self.make} {self.model}\")\n",
    "\n",
    "# Creating objects (instances) of the Car class\n",
    "car1 = Car(\"Toyota\", \"Camry\")\n",
    "car2 = Car(\"Tesla\", \"Model\")"
   ]
  },
  {
   "cell_type": "code",
   "execution_count": 2,
   "id": "de7d71bf-0a9b-4969-a722-1f332baff41b",
   "metadata": {},
   "outputs": [
    {
     "name": "stdout",
     "output_type": "stream",
     "text": [
      "Toyota Camry\n",
      "Tesla Model\n"
     ]
    }
   ],
   "source": [
    "car1.display_info()  # Output: Toyota Camry\n",
    "car2.display_info()  # Output: Tesla Model"
   ]
  },
  {
   "cell_type": "markdown",
   "id": "a002c87d-b83e-4606-babf-299531e90447",
   "metadata": {},
   "source": [
    "Q2. Name the four pillars of OOPs."
   ]
  },
  {
   "cell_type": "markdown",
   "id": "992274dd-245e-459d-8f4b-f03544028ce5",
   "metadata": {},
   "source": [
    "Ans-\n",
    "1. Encapsulation: Bundles data (attributes) and methods (functions) into a single unit (class) and restricts access to them.\n",
    "   \n",
    "2. Abstraction: Hides complex implementation details and exposes only necessary functionalities.\n",
    "   \n",
    "3. Inheritance: Allows a new class (derived class) to inherit attributes and behaviors from an existing class (base class).\n",
    "   \n",
    "4. Polymorphism: Allows methods to be used with the same interface for different data types, facilitating code reuse and flexibility."
   ]
  },
  {
   "cell_type": "markdown",
   "id": "a38fa9bd-1405-4ab4-89c3-de3b3bae2f27",
   "metadata": {},
   "source": [
    "Q3. Explain why the __init__() function is used. Give a suitable example."
   ]
  },
  {
   "cell_type": "markdown",
   "id": "4e4b3615-f090-4c94-a939-0f117ce4d4e9",
   "metadata": {},
   "source": [
    "Ans- The __init__() function in Python is a special method, also known as the constructor method. It is automatically called when a new instance (object) of a class is created. The primary purpose of __init__() is to initialize the attributes of the object and perform any necessary setup operations required for the object to function properly."
   ]
  },
  {
   "cell_type": "code",
   "execution_count": 10,
   "id": "603ba039-b894-4eee-855a-5523c5514a83",
   "metadata": {},
   "outputs": [],
   "source": [
    "class Car:\n",
    "    def __init__(self, make, model, year):\n",
    "        self.make = make        # Initialize make attribute\n",
    "        self.model = model      # Initialize model attribute\n",
    "        self.year = year        # Initialize year attribute"
   ]
  },
  {
   "cell_type": "code",
   "execution_count": 11,
   "id": "dd399b54-7b12-4327-a253-7364219ead15",
   "metadata": {},
   "outputs": [],
   "source": [
    "# Creating an instance of the Car class\n",
    "my_car = Car(\"Toyota\", \"Camry\", 2020)"
   ]
  },
  {
   "cell_type": "code",
   "execution_count": 12,
   "id": "e79e3bfd-ac99-4f66-ae3d-17d1161fdb31",
   "metadata": {},
   "outputs": [
    {
     "data": {
      "text/plain": [
       "2020"
      ]
     },
     "execution_count": 12,
     "metadata": {},
     "output_type": "execute_result"
    }
   ],
   "source": [
    "my_car.year"
   ]
  },
  {
   "cell_type": "code",
   "execution_count": 13,
   "id": "0efc7423-5b2f-4f1d-9ba3-6cbbb6b979fd",
   "metadata": {},
   "outputs": [
    {
     "data": {
      "text/plain": [
       "'Toyota'"
      ]
     },
     "execution_count": 13,
     "metadata": {},
     "output_type": "execute_result"
    }
   ],
   "source": [
    "my_car.make"
   ]
  },
  {
   "cell_type": "code",
   "execution_count": 14,
   "id": "e928f3f8-d4e5-47de-91b4-a90bb3537e89",
   "metadata": {},
   "outputs": [
    {
     "data": {
      "text/plain": [
       "'Camry'"
      ]
     },
     "execution_count": 14,
     "metadata": {},
     "output_type": "execute_result"
    }
   ],
   "source": [
    "my_car.model"
   ]
  },
  {
   "cell_type": "markdown",
   "id": "42aa715b-2c0b-46c5-a567-b96797b40f96",
   "metadata": {},
   "source": [
    "Q4. Why self is used in OOPs?"
   ]
  },
  {
   "cell_type": "markdown",
   "id": "53266e1b-497e-42cf-9323-8e1bc301f3ac",
   "metadata": {},
   "source": [
    "Ans- 'self' is used in object-oriented programming to refer to the instance of the class itself. It allows instance methods to access and modify instance variables, call other methods within the same class, and differentiate between instance and class variables. It is the first parameter of instance methods in Python classes."
   ]
  },
  {
   "cell_type": "markdown",
   "id": "786da591-4589-4af5-a8bf-bf918eaa56d6",
   "metadata": {},
   "source": [
    "Q5. What is inheritance? Give an example for each type of inheritance."
   ]
  },
  {
   "cell_type": "markdown",
   "id": "d327e432-e3ce-4fa5-8873-1f87b5ba4a67",
   "metadata": {},
   "source": [
    "Ans- Inheritance is a fundamental concept in object-oriented programming (OOP) where a new class (derived class or child class) is created by inheriting the properties and behaviors of an existing class (base class or parent class). This allows the derived class to reuse the code of the base class, promoting code reuse and minimizing redundancy."
   ]
  },
  {
   "cell_type": "markdown",
   "id": "4ab4eed5-bf4e-4061-9277-73583bae46db",
   "metadata": {},
   "source": [
    "1. Single Inheritance:\n",
    "In single inheritance, a derived class inherits from only one base class."
   ]
  },
  {
   "cell_type": "code",
   "execution_count": 16,
   "id": "d5055686-3f3e-418f-a9e0-eaa22231eec1",
   "metadata": {},
   "outputs": [
    {
     "name": "stdout",
     "output_type": "stream",
     "text": [
      "Animal speaks\n",
      "Dog barks\n"
     ]
    }
   ],
   "source": [
    "# Base class\n",
    "class Animal:\n",
    "    def speak(self):\n",
    "        print(\"Animal speaks\")\n",
    "\n",
    "# Derived class inheriting from Animal\n",
    "class Dog(Animal):\n",
    "    def bark(self):\n",
    "        print(\"Dog barks\")\n",
    "\n",
    "# Creating an instance of Dog\n",
    "my_dog = Dog()\n",
    "my_dog.speak()  # Output: Animal speaks\n",
    "my_dog.bark()   # Output: Dog barks"
   ]
  },
  {
   "cell_type": "markdown",
   "id": "f1989fce-0db7-4aa0-9328-8dcba17a9fbb",
   "metadata": {},
   "source": [
    "2. Multiple Inheritance:\n",
    "Multiple inheritance occurs when a derived class inherits from more than one base class."
   ]
  },
  {
   "cell_type": "code",
   "execution_count": 17,
   "id": "f82021ec-6645-447b-b236-502a2e301086",
   "metadata": {},
   "outputs": [
    {
     "name": "stdout",
     "output_type": "stream",
     "text": [
      "Animal speaks\n",
      "Mammal runs\n",
      "Dog barks\n"
     ]
    }
   ],
   "source": [
    "# Base class 1\n",
    "class Animal:\n",
    "    def speak(self):\n",
    "        print(\"Animal speaks\")\n",
    "\n",
    "# Base class 2\n",
    "class Mammal:\n",
    "    def run(self):\n",
    "        print(\"Mammal runs\")\n",
    "\n",
    "# Derived class inheriting from Animal and Mammal\n",
    "class Dog(Animal, Mammal):\n",
    "    def bark(self):\n",
    "        print(\"Dog barks\")\n",
    "\n",
    "# Creating an instance of Dog\n",
    "my_dog = Dog()\n",
    "my_dog.speak()  # Output: Animal speaks\n",
    "my_dog.run()    # Output: Mammal runs\n",
    "my_dog.bark()   # Output: Dog barks"
   ]
  },
  {
   "cell_type": "markdown",
   "id": "bd5cf72c-4682-4dae-8fc1-8155e50b43a7",
   "metadata": {},
   "source": [
    "3. Multilevel Inheritance:\n",
    "Multilevel inheritance involves chaining inheritance where a derived class itself serves as a base class for another class."
   ]
  },
  {
   "cell_type": "code",
   "execution_count": 18,
   "id": "d10bab5d-59ff-44cd-83a1-eb48e1e8bef3",
   "metadata": {},
   "outputs": [
    {
     "name": "stdout",
     "output_type": "stream",
     "text": [
      "Animal speaks\n",
      "Dog barks\n",
      "Puppy plays\n"
     ]
    }
   ],
   "source": [
    "# Base class\n",
    "class Animal:\n",
    "    def speak(self):\n",
    "        print(\"Animal speaks\")\n",
    "\n",
    "# Derived class inheriting from Animal\n",
    "class Dog(Animal):\n",
    "    def bark(self):\n",
    "        print(\"Dog barks\")\n",
    "\n",
    "# Further derived class inheriting from Dog\n",
    "class Puppy(Dog):\n",
    "    def play(self):\n",
    "        print(\"Puppy plays\")\n",
    "\n",
    "# Creating an instance of Puppy\n",
    "my_puppy = Puppy()\n",
    "my_puppy.speak()  # Output: Animal speaks\n",
    "my_puppy.bark()   # Output: Dog barks\n",
    "my_puppy.play()   # Output: Puppy plays\n"
   ]
  }
 ],
 "metadata": {
  "kernelspec": {
   "display_name": "Python 3 (ipykernel)",
   "language": "python",
   "name": "python3"
  },
  "language_info": {
   "codemirror_mode": {
    "name": "ipython",
    "version": 3
   },
   "file_extension": ".py",
   "mimetype": "text/x-python",
   "name": "python",
   "nbconvert_exporter": "python",
   "pygments_lexer": "ipython3",
   "version": "3.10.8"
  }
 },
 "nbformat": 4,
 "nbformat_minor": 5
}
